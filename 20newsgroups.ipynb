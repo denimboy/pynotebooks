{
 "metadata": {
  "name": ""
 },
 "nbformat": 3,
 "nbformat_minor": 0,
 "worksheets": [
  {
   "cells": [
    {
     "cell_type": "code",
     "collapsed": false,
     "input": [
      "import numpy as np\n",
      "import matplotlib.pyplot as plt\n",
      "import seaborn as sns\n",
      "\n",
      "from sklearn.datasets import fetch_20newsgroups\n",
      "from sklearn.feature_extraction.text import CountVectorizer\n",
      "from sklearn.feature_extraction.text import TfidfTransformer\n",
      "from sklearn.pipeline import Pipeline\n",
      "from sklearn.metrics import confusion_matrix\n",
      "from sklearn.metrics import classification_report\n",
      "\n",
      "from sklearn.naive_bayes import MultinomialNB\n",
      "from sklearn.neighbors import KNeighborsClassifier\n",
      "from sklearn.linear_model import SGDClassifier\n",
      "from sklearn.linear_model import PassiveAggressiveClassifier"
     ],
     "language": "python",
     "metadata": {},
     "outputs": [],
     "prompt_number": 155
    },
    {
     "cell_type": "code",
     "collapsed": false,
     "input": [
      "from nltk import word_tokenize\n",
      "from nltk.stem import PorterStemmer\n",
      "from nltk.stem import WordNetLemmatizer \n",
      "\n",
      "class LemmaTokenizer(object):\n",
      "    def __init__(self):\n",
      "        self.wnl = WordNetLemmatizer()\n",
      "    def __call__(self, doc):\n",
      "        return [self.wnl.lemmatize(t) for t in word_tokenize(doc)]\n",
      "\n",
      "class StemmingTokenizer(object):\n",
      "    def __init__(self):\n",
      "        self.ps = PorterStemmer()\n",
      "    def __call__(self, doc):\n",
      "        return [self.ps.stem(t) for t in word_tokenize(doc)]"
     ],
     "language": "python",
     "metadata": {},
     "outputs": [],
     "prompt_number": 133
    },
    {
     "cell_type": "code",
     "collapsed": false,
     "input": [
      "train = fetch_20newsgroups(subset='train', remove=('headers', 'footers', 'quotes'), shuffle=True, random_state=0)\n",
      "test  = fetch_20newsgroups(subset='test' , remove=('headers', 'footers', 'quotes'), shuffle=True, random_state=0)\n",
      "\n",
      "# stop_words='english', ngram_range=(1,2), tokenizer=StemmingTokenizer()\n",
      "clf = Pipeline([\n",
      "    ('vect',  CountVectorizer(stop_words='english',)),\n",
      "    ('tfidf', TfidfTransformer()),\n",
      "    ('sgd', SGDClassifier()),                               # %80.09\n",
      "#    ('pa',   PassiveAggressiveClassifier()),               # %78.79\n",
      "#    ('nb',   MultinomialNB()),                             # %76.22\n",
      "#    ('knn',   KNeighborsClassifier(7,weights='distance')), # 10.11\n",
      "])\n",
      "clf.fit(train.data, train.target)\n",
      "None"
     ],
     "language": "python",
     "metadata": {},
     "outputs": [],
     "prompt_number": 161
    },
    {
     "cell_type": "code",
     "collapsed": false,
     "input": [
      "X_test = twenty_test.data\n",
      "y_test = twenty_test.target\n",
      "y_pred = clf.predict(X_test)\n",
      "\n",
      "score = clf.score(X_test, y_test)\n",
      "print 'Correctly classified %%%s' % (score * 100.00,)"
     ],
     "language": "python",
     "metadata": {},
     "outputs": [
      {
       "output_type": "stream",
       "stream": "stdout",
       "text": [
        "Correctly classified %80.0982474774\n"
       ]
      }
     ],
     "prompt_number": 162
    },
    {
     "cell_type": "code",
     "collapsed": false,
     "input": [
      "# Show confusion matrix\n",
      "cm = confusion_matrix(y_test, y_pred)\n",
      "\n",
      "sns.set_style(\"white\") #darkgrid, whitegrid, dark, white, and ticks\n",
      "sns.set_context(\"notebook\") #paper, notebook, talk, and poster\n",
      "plt.matshow(np.log(cm)) # log makes lighter color more visible\n",
      "plt.colorbar()\n",
      "plt.show()"
     ],
     "language": "python",
     "metadata": {},
     "outputs": [
      {
       "metadata": {},
       "output_type": "display_data",
       "png": "[encoded data removed]",
       "text": [
        "<matplotlib.figure.Figure at 0x7fb2fb2e9bd0>"
       ]
      }
     ],
     "prompt_number": 163
    },
    {
     "cell_type": "code",
     "collapsed": false,
     "input": [],
     "language": "python",
     "metadata": {},
     "outputs": []
    }
   ],
   "metadata": {}
  }
 ]
}