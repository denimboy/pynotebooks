{
 "metadata": {
  "name": ""
 },
 "nbformat": 3,
 "nbformat_minor": 0,
 "worksheets": [
  {
   "cells": [
    {
     "cell_type": "code",
     "collapsed": false,
     "input": [
      "from sklearn.datasets import load_iris\n",
      "from sklearn import tree\n",
      "from sklearn import cross_validation\n",
      "from sklearn.metrics import confusion_matrix\n",
      "from sklearn.metrics import classification_report\n",
      "\n",
      "import pylab as pl\n",
      "import matplotlib.cm as cmap\n",
      "\n",
      "iris = load_iris()\n",
      "clf = tree.DecisionTreeClassifier()"
     ],
     "language": "python",
     "metadata": {},
     "outputs": [],
     "prompt_number": 2
    },
    {
     "cell_type": "code",
     "collapsed": false,
     "input": [
      "# K fold\n",
      "scores = cross_validation.cross_val_score(\n",
      "    clf, iris.data, iris.target, cv=5\n",
      ")\n",
      "print \"k folds\"\n",
      "print scores\n",
      "print 'mean scores: %s\\n'% scores.mean()"
     ],
     "language": "python",
     "metadata": {},
     "outputs": [
      {
       "output_type": "stream",
       "stream": "stdout",
       "text": [
        "k folds\n",
        "[ 0.93333333  0.93333333  0.93333333  0.93333333  0.96666667]\n",
        "mean scores: 0.94\n",
        "\n"
       ]
      }
     ],
     "prompt_number": 5
    },
    {
     "cell_type": "code",
     "collapsed": false,
     "input": [
      "# train/test\n",
      "X_train, X_test, y_train, y_test = cross_validation.train_test_split(\n",
      "    iris.data, iris.target, test_size=0.4, random_state=0\n",
      ")\n",
      "clf = clf.fit(X_train, y_train)\n",
      "\n",
      "print \"train/test split\"\n",
      "print clf.score(X_test, y_test)\n",
      "print"
     ],
     "language": "python",
     "metadata": {},
     "outputs": [
      {
       "output_type": "stream",
       "stream": "stdout",
       "text": [
        "train/test split\n",
        "0.95\n",
        "\n"
       ]
      }
     ],
     "prompt_number": 7
    },
    {
     "cell_type": "code",
     "collapsed": false,
     "input": [
      "# confusion matrix\n",
      "clf.fit(X_train, y_train)\n",
      "y_pred = clf.predict(X_test)\n",
      "cm = confusion_matrix(y_test, y_pred)\n",
      "print \"confusion matrix\"\n",
      "print cm\n",
      "print"
     ],
     "language": "python",
     "metadata": {},
     "outputs": [
      {
       "output_type": "stream",
       "stream": "stdout",
       "text": [
        "confusion matrix\n",
        "[[16  0  0]\n",
        " [ 0 22  1]\n",
        " [ 0  2 19]]\n",
        "\n"
       ]
      }
     ],
     "prompt_number": 8
    },
    {
     "cell_type": "code",
     "collapsed": false,
     "input": [
      "# classification report\n",
      "print classification_report(y_test, y_pred, target_names=iris.target_names) "
     ],
     "language": "python",
     "metadata": {},
     "outputs": [
      {
       "output_type": "stream",
       "stream": "stdout",
       "text": [
        "             precision    recall  f1-score   support\n",
        "\n",
        "     setosa       1.00      1.00      1.00        16\n",
        " versicolor       0.92      0.96      0.94        23\n",
        "  virginica       0.95      0.90      0.93        21\n",
        "\n",
        "avg / total       0.95      0.95      0.95        60\n",
        "\n"
       ]
      }
     ],
     "prompt_number": 9
    },
    {
     "cell_type": "code",
     "collapsed": false,
     "input": [
      "# Show confusion matrix in a separate window\n",
      "pl.matshow(cm, cmap=cmap.Purples)\n",
      "pl.title('Confusion matrix')\n",
      "pl.colorbar()\n",
      "pl.ylabel('True label')\n",
      "pl.xlabel('Predicted label')\n",
      "pl.show()"
     ],
     "language": "python",
     "metadata": {},
     "outputs": [
      {
       "metadata": {},
       "output_type": "display_data",
       "png": "[encoded data removed]",
       "text": [
        "<matplotlib.figure.Figure at 0x103fc7850>"
       ]
      }
     ],
     "prompt_number": 10
    },
    {
     "cell_type": "code",
     "collapsed": false,
     "input": [],
     "language": "python",
     "metadata": {},
     "outputs": []
    }
   ],
   "metadata": {}
  }
 ]
}